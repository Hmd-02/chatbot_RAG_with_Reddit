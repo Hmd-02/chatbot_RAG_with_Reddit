{
 "cells": [
  {
   "cell_type": "markdown",
   "id": "13d89a1b",
   "metadata": {},
   "source": [
    "##  Prétraitement des commentaires textuels\n",
    "\n",
    "Ce notebook a pour but de nettoyer des **commentaires textuels** issus de la base de données des dommentaires en rapport avec la technologie. Ces données traitées seront ensuites utilisées pour entraîner un chatbot.\n",
    "\n",
    "#### Etapes du prétraitement:\n",
    "\n",
    "- Suppression des balises HTML, caractères spéciaux, emojis, etc ;\n",
    "- Mise en minuscule et suppression des espaces inutiles ;\n",
    "- Remplacement des abréviations courantes (ex. `mdr` → `mort de rire`, `u` → `you`) ;\n",
    "- Nettoyage des ponctuations mal placées (ex. remplacement de `. ` par `.`) ...\n",
    "\n",
    "#### Dépendances\n",
    "\n",
    "- `re`\n",
    "- `pandas`"
   ]
  },
  {
   "cell_type": "markdown",
   "id": "b51192c3",
   "metadata": {},
   "source": [
    "### Importation of libraries"
   ]
  },
  {
   "cell_type": "code",
   "execution_count": null,
   "id": "40d1ac80",
   "metadata": {},
   "outputs": [],
   "source": [
    "import re\n",
    "import warnings\n",
    "from collections import Counter\n",
    "import os\n",
    "import pandas as pd\n",
    "\n",
    "# filter warnings\n",
    "warnings.filterwarnings('ignore')\n"
   ]
  },
  {
   "cell_type": "markdown",
   "id": "b195064a",
   "metadata": {},
   "source": [
    "### Importation et visualisation de la base"
   ]
  },
  {
   "cell_type": "code",
   "execution_count": 41,
   "id": "27c7642e",
   "metadata": {},
   "outputs": [
    {
     "data": {
      "text/html": [
       "<div>\n",
       "<style scoped>\n",
       "    .dataframe tbody tr th:only-of-type {\n",
       "        vertical-align: middle;\n",
       "    }\n",
       "\n",
       "    .dataframe tbody tr th {\n",
       "        vertical-align: top;\n",
       "    }\n",
       "\n",
       "    .dataframe thead th {\n",
       "        text-align: right;\n",
       "    }\n",
       "</style>\n",
       "<table border=\"1\" class=\"dataframe\">\n",
       "  <thead>\n",
       "    <tr style=\"text-align: right;\">\n",
       "      <th></th>\n",
       "      <th>post_id</th>\n",
       "      <th>subreddit</th>\n",
       "      <th>created_utc</th>\n",
       "      <th>post_title</th>\n",
       "      <th>link_flair_text</th>\n",
       "      <th>comment</th>\n",
       "    </tr>\n",
       "  </thead>\n",
       "  <tbody>\n",
       "    <tr>\n",
       "      <th>0</th>\n",
       "      <td>1d6iggo</td>\n",
       "      <td>artificial</td>\n",
       "      <td>1.717349e+09</td>\n",
       "      <td>What are your thoughts on the following statem...</td>\n",
       "      <td>Discussion</td>\n",
       "      <td>\"https://x.com/AuthorJMac/status/1773871445669...</td>\n",
       "    </tr>\n",
       "    <tr>\n",
       "      <th>1</th>\n",
       "      <td>1d6iggo</td>\n",
       "      <td>artificial</td>\n",
       "      <td>1.717349e+09</td>\n",
       "      <td>What are your thoughts on the following statem...</td>\n",
       "      <td>Discussion</td>\n",
       "      <td>&gt; So, just to clarify. This post isn't about w...</td>\n",
       "    </tr>\n",
       "    <tr>\n",
       "      <th>2</th>\n",
       "      <td>1d6iggo</td>\n",
       "      <td>artificial</td>\n",
       "      <td>1.717349e+09</td>\n",
       "      <td>What are your thoughts on the following statem...</td>\n",
       "      <td>Discussion</td>\n",
       "      <td>If AI could do/explain my taxes this would be ...</td>\n",
       "    </tr>\n",
       "    <tr>\n",
       "      <th>3</th>\n",
       "      <td>1d6iggo</td>\n",
       "      <td>artificial</td>\n",
       "      <td>1.717349e+09</td>\n",
       "      <td>What are your thoughts on the following statem...</td>\n",
       "      <td>Discussion</td>\n",
       "      <td>\"I agree, but AI won't prevent you from doing ...</td>\n",
       "    </tr>\n",
       "    <tr>\n",
       "      <th>4</th>\n",
       "      <td>1d6iggo</td>\n",
       "      <td>artificial</td>\n",
       "      <td>1.717349e+09</td>\n",
       "      <td>What are your thoughts on the following statem...</td>\n",
       "      <td>Discussion</td>\n",
       "      <td>\"People are taking this quite literally, but I...</td>\n",
       "    </tr>\n",
       "  </tbody>\n",
       "</table>\n",
       "</div>"
      ],
      "text/plain": [
       "   post_id   subreddit   created_utc  \\\n",
       "0  1d6iggo  artificial  1.717349e+09   \n",
       "1  1d6iggo  artificial  1.717349e+09   \n",
       "2  1d6iggo  artificial  1.717349e+09   \n",
       "3  1d6iggo  artificial  1.717349e+09   \n",
       "4  1d6iggo  artificial  1.717349e+09   \n",
       "\n",
       "                                          post_title link_flair_text  \\\n",
       "0  What are your thoughts on the following statem...      Discussion   \n",
       "1  What are your thoughts on the following statem...      Discussion   \n",
       "2  What are your thoughts on the following statem...      Discussion   \n",
       "3  What are your thoughts on the following statem...      Discussion   \n",
       "4  What are your thoughts on the following statem...      Discussion   \n",
       "\n",
       "                                             comment  \n",
       "0  \"https://x.com/AuthorJMac/status/1773871445669...  \n",
       "1  > So, just to clarify. This post isn't about w...  \n",
       "2  If AI could do/explain my taxes this would be ...  \n",
       "3  \"I agree, but AI won't prevent you from doing ...  \n",
       "4  \"People are taking this quite literally, but I...  "
      ]
     },
     "execution_count": 41,
     "metadata": {},
     "output_type": "execute_result"
    }
   ],
   "source": [
    "df = pd.read_csv(\"./data/df_comments_posts.csv\",delimiter=\",\")\n",
    "df.head()"
   ]
  },
  {
   "cell_type": "code",
   "execution_count": 42,
   "id": "074f4171",
   "metadata": {},
   "outputs": [
    {
     "name": "stdout",
     "output_type": "stream",
     "text": [
      "\"https://x.com/AuthorJMac/status/1773871445669474662. > So, just to clarify. This post isn't about wanting an actual laundry robots.. If AI could do/explain my taxes this would be great.\". \"I agree, b\n"
     ]
    }
   ],
   "source": [
    "# Combine all comments\n",
    "all_comments = '. '.join(df[\"comment\"].astype(str))\n",
    "print(all_comments[:200])"
   ]
  },
  {
   "cell_type": "code",
   "execution_count": 43,
   "id": "03cf1ae9",
   "metadata": {},
   "outputs": [
    {
     "data": {
      "text/plain": [
       "[('the', 234026),\n",
       " ('to', 199492),\n",
       " ('a', 166811),\n",
       " ('and', 141512),\n",
       " ('of', 126755),\n",
       " ('is', 114679),\n",
       " ('I', 100664),\n",
       " ('in', 87058),\n",
       " ('that', 82668),\n",
       " ('you', 78040),\n",
       " ('for', 72282),\n",
       " ('it', 71444),\n",
       " ('be', 52715),\n",
       " ('are', 50245),\n",
       " ('with', 48749),\n",
       " ('on', 46059),\n",
       " ('have', 43373),\n",
       " ('this', 43145),\n",
       " ('not', 38407),\n",
       " ('but', 36908),\n",
       " ('as', 32675),\n",
       " ('can', 31388),\n",
       " ('they', 30204),\n",
       " ('or', 29429),\n",
       " ('like', 29363),\n",
       " ('will', 28803),\n",
       " ('just', 28291),\n",
       " ('AI', 28115),\n",
       " ('your', 26235),\n",
       " ('an', 26001)]"
      ]
     },
     "execution_count": 43,
     "metadata": {},
     "output_type": "execute_result"
    }
   ],
   "source": [
    "words_frequency = Counter(all_comments.split())\n",
    "words_frequency.most_common(n=30)"
   ]
  },
  {
   "cell_type": "markdown",
   "id": "05d84186",
   "metadata": {},
   "source": [
    "#### Possibles abbreviations que les internautes auraient utilisés"
   ]
  },
  {
   "cell_type": "code",
   "execution_count": 44,
   "id": "bda24e1f",
   "metadata": {},
   "outputs": [],
   "source": [
    "abbreviations = {\n",
    "    \"u\": \"you\",\n",
    "    \"ur\": \"your\",\n",
    "    \"r\": \"are\",\n",
    "    \"ya\": \"you\",\n",
    "    \"cuz\": \"because\",\n",
    "    \"bc\": \"because\",\n",
    "    \"bcz\": \"because\",\n",
    "    \"idk\": \"i do not know\",\n",
    "    \"iirc\": \"if i recall correctly\",\n",
    "    \"tbh\": \"to be honest\",\n",
    "    \"imo\": \"in my opinion\",\n",
    "    \"imho\": \"in my humble opinion\",\n",
    "    \"fyi\": \"for your information\",\n",
    "    \"asap\": \"as soon as possible\",\n",
    "    \"btw\": \"by the way\",\n",
    "    \"brb\": \"be right back\",\n",
    "    \"lol\": \"laughing out loud\",\n",
    "    \"lmao\": \"laughing my ass off\",\n",
    "    \"rofl\": \"rolling on the floor laughing\",\n",
    "    \"omg\": \"oh my god\",\n",
    "    \"omfg\": \"oh my freaking god\",\n",
    "    \"wtf\": \"what the fuck\",\n",
    "    \"wth\": \"what the hell\",\n",
    "    \"smh\": \"shaking my head\",\n",
    "    \"afaik\": \"as far as i know\",\n",
    "    \"b4\": \"before\",\n",
    "    \"gr8\": \"great\",\n",
    "    \"k\": \"okay\",\n",
    "    \"ok\": \"okay\",\n",
    "    \"thx\": \"thanks\",\n",
    "    \"ty\": \"thank you\",\n",
    "    \"np\": \"no problem\",\n",
    "    \"pls\": \"please\",\n",
    "    \"plz\": \"please\",\n",
    "    \"lmk\": \"let me know\",\n",
    "    \"nvm\": \"never mind\",\n",
    "    \"dm\": \"direct message\",\n",
    "    \"msg\": \"message\",\n",
    "    \"jk\": \"just kidding\",\n",
    "    \"ttyl\": \"talk to you later\",\n",
    "    \"bcuz\": \"because\",\n",
    "    \"tho\": \"though\",\n",
    "    \"yolo\": \"you only live once\",\n",
    "    \"bday\": \"birthday\",\n",
    "    \"gg\": \"good game\",\n",
    "    \"irl\": \"in real life\",\n",
    "    \"g2g\": \"got to go\",\n",
    "    \"atm\": \"at the moment\",\n",
    "    \"hmu\": \"hit me up\",\n",
    "    \"np\": \"no problem\",\n",
    "    \"wanna\": \"want to\",\n",
    "    \"gonna\": \"going to\",\n",
    "    \"gotta\": \"got to\",\n",
    "    \"ain't\": \"is not\",\n",
    "    \"lemme\": \"let me\",\n",
    "    \"gimme\": \"give me\",\n",
    "    \"ya'll\": \"you all\",\n",
    "    \"y'all\": \"you all\",\n",
    "    \"cya\": \"see you\",\n",
    "    \"bbl\": \"be back later\",\n",
    "\n",
    "    #Quelques contractions de mots\n",
    "    \"i'm\": \"i am\",\n",
    "    \"you're\": \"you are\",\n",
    "    \"he's\": \"he is\",\n",
    "    \"she's\": \"she is\",\n",
    "    \"it's\": \"it is\",\n",
    "    \"we're\": \"we are\",\n",
    "    \"they're\": \"they are\",\n",
    "    \n",
    "    \"i've\": \"i have\",\n",
    "    \"you've\": \"you have\",\n",
    "    \"we've\": \"we have\",\n",
    "    \"they've\": \"they have\",\n",
    "    \"he'd\": \"he had\",\n",
    "    \"she'd\": \"she had\",\n",
    "    \"it'd\": \"it had\",\n",
    "    \n",
    "    \"i'll\": \"i will\",\n",
    "    \"you'll\": \"you will\",\n",
    "    \"he'll\": \"he will\",\n",
    "    \"she'll\": \"she will\",\n",
    "    \"it'll\": \"it will\",\n",
    "    \"we'll\": \"we will\",\n",
    "    \"they'll\": \"they will\",\n",
    "    \n",
    "    \"i'd\": \"i would\",\n",
    "    \"you'd\": \"you would\",\n",
    "    \"we'd\": \"we would\",\n",
    "    \"they'd\": \"they would\",\n",
    "\n",
    "    \"isn't\": \"is not\",\n",
    "    \"aren't\": \"are not\",\n",
    "    \"wasn't\": \"was not\",\n",
    "    \"weren't\": \"were not\",\n",
    "    \"don't\": \"do not\",\n",
    "    \"doesn't\": \"does not\",\n",
    "    \"didn't\": \"did not\",\n",
    "    \"won't\": \"will not\",\n",
    "    \"wouldn't\": \"would not\",\n",
    "    \"can't\": \"cannot\",\n",
    "    \"couldn't\": \"could not\",\n",
    "    \"shouldn't\": \"should not\",\n",
    "    \"mustn't\": \"must not\",\n",
    "    \"hasn't\": \"has not\",\n",
    "    \"haven't\": \"have not\",\n",
    "    \"hadn't\": \"had not\",\n",
    "}\n"
   ]
  },
  {
   "cell_type": "markdown",
   "id": "a420d2cb",
   "metadata": {},
   "source": [
    "### Fonction de pretraitement du texte sans le tokenizer (on va utiliser celui de gpt2)"
   ]
  },
  {
   "cell_type": "code",
   "execution_count": 45,
   "id": "a3437de6",
   "metadata": {},
   "outputs": [],
   "source": [
    "def preprocess_comment(\n",
    "    text,\n",
    "    expand_abbreviations=False,\n",
    "    remove_emojis=True,\n",
    "    remove_deleted=True,\n",
    "):\n",
    "    \"\"\"\n",
    "    Prétraitement complet de texte destiné à un chatbot ou analyse NLP.\n",
    "\n",
    "    Paramètres :\n",
    "    - text : str, texte d'entrée\n",
    "    - expand_abbreviations : bool, pour convertir les abréviations communes\n",
    "    - remove_emojis : bool, supprimer les emojis\n",
    "    - remove_deleted : bool, supprimer les balises '[deleted]'\n",
    "\n",
    "    Output :\n",
    "    - Texte nettoyé \n",
    "    \"\"\"\n",
    "\n",
    "    # 1. Mise en minuscules\n",
    "    text = text.lower()\n",
    "\n",
    "    # 2. Suppression HTML, liens, mails, hashtags, mentions\n",
    "    text = re.sub(r\"<.*?>\", \"\", text)                  # HTML\n",
    "    text = re.sub(r\"http\\S+|www\\S+\", \"\", text)         # liens\n",
    "    text = re.sub(r\"\\S*@\\S*\\s*\", \"\", text)             # emails\n",
    "    text = re.sub(r\"@\\w+\", \"\", text)                   # mentions\n",
    "    text = re.sub(r\"#(\\w+)\", r\"\\1\", text)              # hashtags\n",
    "\n",
    "    # 3. Suppression des balises\n",
    "    if remove_deleted:\n",
    "        text = re.sub(r\"\\[deleted\\]\", \"\", text)\n",
    "\n",
    "    # 4. Supprimer les emojis\n",
    "    if remove_emojis:\n",
    "        emoji_pattern = re.compile(\"[\"\n",
    "            u\"\\U0001F600-\\U0001F64F\"  # emoticônes\n",
    "            u\"\\U0001F300-\\U0001F5FF\"  # symboles\n",
    "            u\"\\U0001F680-\\U0001F6FF\"  # transport\n",
    "            u\"\\U0001F1E0-\\U0001F1FF\"  # drapeaux\n",
    "            \"]+\", flags=re.UNICODE)\n",
    "        text = emoji_pattern.sub(r'', text)\n",
    "\n",
    "    # 5. Expansion des abréviations\n",
    "    if expand_abbreviations:\n",
    "        for abbr, full in abbreviations.items():\n",
    "            text = re.sub(rf\"\\b{abbr}\\b\", full, text)\n",
    " \n",
    "    # 6. Suppression des espaces multiples\n",
    "    text = re.sub(r\"\\s+\", \" \", text).strip()\n",
    "\n",
    "    # 7. suspression du caractère: \". \"\n",
    "    text = text.replace('\"', \"\").replace('..', \".\").replace(\"<\", \"\").replace(\">\", \"\")\n",
    "\n",
    "    return text\n"
   ]
  },
  {
   "cell_type": "code",
   "execution_count": 46,
   "id": "93a8c79e",
   "metadata": {},
   "outputs": [],
   "source": [
    "all_comments_cleaned=preprocess_comment(all_comments,True,True,True)"
   ]
  },
  {
   "cell_type": "code",
   "execution_count": 47,
   "id": "6a1dc8bd",
   "metadata": {},
   "outputs": [
    {
     "data": {
      "text/plain": [
       "'  so, just to clarify. this post is not about wanting an actual laundry robots. if ai could do/explain my taxes this would be great. i agree, but ai will not prevent you from doing art and writing, it will just make you earn less for doing these things, unfortunately. people are taking this quite literally, but i think she is more likely making a general point about ai taking away from the human experience, rather than adding to it. i do not think she is actually imagining a jetsons-style future. . in my opinion almost all the takes in this thread are missing the point completely. i do not think it will happen like that. i think everything will get automated. however yeah in that kind of world you could end up with an underclass of manual labourers and an overclass of owners who pay them with the profits from machines. and is that a good thing? we are all happy to see elevator operators and lecters go however do we want all artists and musicians to go too? or at least the bottom 99% so only the superstars remain?. these are important philosophical questions which it is right to grapple with. you something that i find funny that alway crack me up. it just leave me with crazy eyes . ￼\\u200b. but washing machines and dish washers exist?. it turns out that art and writing is easier than laundry and dishes. i do not want to do any of those things. so send your ai powered workers my way please. i already have a dishwasher, and a washing machine. it would be great if that stuff was even easier, bit it is unnecessary. roomba’s have been cleaning floors for a long time. also dishwashers and laundry machines. what you need is the thing to connect those appliances. we also have robot lawnmowers and weeders and irrigation. i find it hilarious that art and poetry were the first ones to be replaced by ai. ai art is fine. it is here to stay. you can learn how to use it or get left behind. it is a tool, nothing more. an entire industry of typewriter technology was wiped out in a few years. steam engines, scribes, etc. perhaps art and writing just are not that special. if you want to do them yourself, ai is not stopping you, but still have to do the dishes. you may also have to confront the fact that most people may prefer the ai art to yours. i will keep saying it every time someone uses this terrible argument-- those are not equally easy tasks to automate. physical tasks are orders of magnitude more expensive to test and less forgiving of mistakes, and robots are not even really up to doing most of this stuff yet. thats why they started with software. not because they hate artists. do people really think computer engineers could have easily automated folding laundry but just did not think of the possibility?. this just in hard things are hard and easy things are easy. i believe ai should help humans make harder things easier for us to do, not for ai to do the easy things for us. this is exactly how we end up losing our ability to be independent, depending on machine'"
      ]
     },
     "execution_count": 47,
     "metadata": {},
     "output_type": "execute_result"
    }
   ],
   "source": [
    "all_comments_cleaned[:3000]"
   ]
  },
  {
   "cell_type": "markdown",
   "id": "108eb4e8",
   "metadata": {},
   "source": [
    "### Sauvegarde du fichier"
   ]
  },
  {
   "cell_type": "code",
   "execution_count": null,
   "id": "d47fdde5",
   "metadata": {},
   "outputs": [],
   "source": [
    "#Save the file\n",
    "\n",
    "os.makedirs(\"./data\", exist_ok=True)\n",
    "with open(\"./data/data_cleaned.txt\", \"w\", encoding=\"utf-8\") as f:\n",
    "    f.write(all_comments_cleaned)"
   ]
  }
 ],
 "metadata": {
  "kernelspec": {
   "display_name": "Python 3",
   "language": "python",
   "name": "python3"
  },
  "language_info": {
   "codemirror_mode": {
    "name": "ipython",
    "version": 3
   },
   "file_extension": ".py",
   "mimetype": "text/x-python",
   "name": "python",
   "nbconvert_exporter": "python",
   "pygments_lexer": "ipython3",
   "version": "3.12.10"
  }
 },
 "nbformat": 4,
 "nbformat_minor": 5
}
